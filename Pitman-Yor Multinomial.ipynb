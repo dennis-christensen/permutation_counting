{
 "cells": [
  {
   "cell_type": "markdown",
   "id": "c15f5eb0",
   "metadata": {},
   "source": [
    "### Pitman-Yor Multinomial processes"
   ]
  },
  {
   "cell_type": "markdown",
   "id": "17cc0466",
   "metadata": {},
   "source": [
    "### Import"
   ]
  },
  {
   "cell_type": "code",
   "execution_count": 105,
   "id": "d2ad07e6",
   "metadata": {},
   "outputs": [],
   "source": [
    "import numpy as np\n",
    "import numba as nb\n",
    "import matplotlib.pyplot as plt\n",
    "from methods import *\n",
    "from rlaptrans import *\n",
    "from nonparametricMLE import *\n",
    "import pandas as pd\n",
    "from statsmodels.discrete.discrete_model import Probit"
   ]
  },
  {
   "cell_type": "markdown",
   "id": "d05c8964",
   "metadata": {},
   "source": [
    "### Parameters"
   ]
  },
  {
   "cell_type": "code",
   "execution_count": 51,
   "id": "bc11c1e8",
   "metadata": {},
   "outputs": [],
   "source": [
    "alpha = 2.0\n",
    "sigma = .7\n",
    "H = 100\n",
    "K = 500 # Plotting resolution\n",
    "T = 300_000 # Upper bound on number of iterations\n",
    "m = 20 # Number of realisations to plot\n",
    "requiredESS = 2_000 "
   ]
  },
  {
   "cell_type": "markdown",
   "id": "283ed007",
   "metadata": {},
   "source": [
    "### Data"
   ]
  },
  {
   "cell_type": "code",
   "execution_count": 15,
   "id": "9d22f5c2",
   "metadata": {},
   "outputs": [
    {
     "data": {
      "text/html": [
       "<div>\n",
       "<style scoped>\n",
       "    .dataframe tbody tr th:only-of-type {\n",
       "        vertical-align: middle;\n",
       "    }\n",
       "\n",
       "    .dataframe tbody tr th {\n",
       "        vertical-align: top;\n",
       "    }\n",
       "\n",
       "    .dataframe thead th {\n",
       "        text-align: right;\n",
       "    }\n",
       "</style>\n",
       "<table border=\"1\" class=\"dataframe\">\n",
       "  <thead>\n",
       "    <tr style=\"text-align: right;\">\n",
       "      <th></th>\n",
       "      <th>age</th>\n",
       "      <th>successes</th>\n",
       "      <th>trials</th>\n",
       "    </tr>\n",
       "  </thead>\n",
       "  <tbody>\n",
       "    <tr>\n",
       "      <th>0</th>\n",
       "      <td>0.2740</td>\n",
       "      <td>0</td>\n",
       "      <td>1</td>\n",
       "    </tr>\n",
       "    <tr>\n",
       "      <th>1</th>\n",
       "      <td>0.3781</td>\n",
       "      <td>0</td>\n",
       "      <td>1</td>\n",
       "    </tr>\n",
       "    <tr>\n",
       "      <th>2</th>\n",
       "      <td>0.5288</td>\n",
       "      <td>0</td>\n",
       "      <td>1</td>\n",
       "    </tr>\n",
       "    <tr>\n",
       "      <th>3</th>\n",
       "      <td>0.5342</td>\n",
       "      <td>0</td>\n",
       "      <td>1</td>\n",
       "    </tr>\n",
       "    <tr>\n",
       "      <th>4</th>\n",
       "      <td>0.9452</td>\n",
       "      <td>1</td>\n",
       "      <td>1</td>\n",
       "    </tr>\n",
       "  </tbody>\n",
       "</table>\n",
       "</div>"
      ],
      "text/plain": [
       "      age  successes  trials\n",
       "0  0.2740          0       1\n",
       "1  0.3781          0       1\n",
       "2  0.5288          0       1\n",
       "3  0.5342          0       1\n",
       "4  0.9452          1       1"
      ]
     },
     "execution_count": 15,
     "metadata": {},
     "output_type": "execute_result"
    }
   ],
   "source": [
    "df = pd.read_csv('rubella.csv')\n",
    "df.head()"
   ]
  },
  {
   "cell_type": "code",
   "execution_count": 16,
   "id": "da1c69ee",
   "metadata": {},
   "outputs": [],
   "source": [
    "logages = np.log(np.array(df['age'].tolist()))\n",
    "successes = np.array(df['successes'].tolist())\n",
    "n = len(logages)"
   ]
  },
  {
   "cell_type": "markdown",
   "id": "caba28d7",
   "metadata": {},
   "source": [
    "#### Rescalce"
   ]
  },
  {
   "cell_type": "code",
   "execution_count": 17,
   "id": "64341335",
   "metadata": {},
   "outputs": [],
   "source": [
    "probitalpha, probitbeta = Probit(successes, np.column_stack((np.ones((len(logages), 1)), logages))).fit(disp=False).params\n",
    "logages = logages*probitbeta + probitalpha"
   ]
  },
  {
   "cell_type": "code",
   "execution_count": 18,
   "id": "d2902451",
   "metadata": {},
   "outputs": [],
   "source": [
    "obsleft = logages[successes == 1]\n",
    "obsright = logages[successes == 0]\n",
    "\n",
    "nleft = len(obsleft)\n",
    "nright = len(obsright)"
   ]
  },
  {
   "cell_type": "markdown",
   "id": "854f2697",
   "metadata": {},
   "source": [
    "### Methods"
   ]
  },
  {
   "cell_type": "code",
   "execution_count": 23,
   "id": "a7229135",
   "metadata": {},
   "outputs": [],
   "source": [
    "@nb.njit(nb.float64[:](nb.float64[:], nb.float64[:], nb.int64))\n",
    "def numba_choice_sampler(array, probabilities, size):\n",
    "    cumsump = np.cumsum(probabilities)\n",
    "    result = np.zeros(size)\n",
    "    for i in range(size):\n",
    "        u = np.random.random()\n",
    "        index = np.argmax(u <= cumsump)\n",
    "        result[i] = array[index]\n",
    "    return result\n",
    "\n",
    "\n",
    "@nb.njit(nb.float64[:,:](nb.float64[:,:],\n",
    "                         nb.float64[:,:],\n",
    "                         nb.float64[:],\n",
    "                         nb.int64,\n",
    "                         nb.int64))\n",
    "def get_posterior_cdfs(sortedpis, sortedthetas, space, T, K):\n",
    "    posterior_cdfs = np.zeros((T, K))\n",
    "    for t in range(T):\n",
    "        for k in range(K):\n",
    "            posterior_cdfs[t][k] = np.sum(sortedpis[t][sortedthetas[t] <= space[k]])\n",
    "    return posterior_cdfs\n",
    "        "
   ]
  },
  {
   "cell_type": "code",
   "execution_count": 24,
   "id": "3168b58d",
   "metadata": {},
   "outputs": [],
   "source": [
    "@nb.njit(nb.types.Tuple((nb.float64[:,:], nb.float64[:,:], nb.float64[:,:], nb.float64[:], nb.int64))(nb.float64,\n",
    "                                                                                                      nb.float64,\n",
    "                                                                                                      nb.int64,\n",
    "                                                                                                      nb.int64,\n",
    "                                                                                                      nb.int64,\n",
    "                                                                                                      nb.int64,\n",
    "                                                                                                      nb.float64[:],\n",
    "                                                                                                      nb.float64[:]))\n",
    "def main_simulation(alpha, sigma, H, T, requiredESS, n, obsleft, obsright):\n",
    "    data = np.zeros((T, n))\n",
    "    thetas = np.zeros((T, H))\n",
    "    pis = np.zeros((T, H))\n",
    "    logpermanents = -np.inf*np.ones(T)\n",
    "    \n",
    "    nleft = len(obsleft)\n",
    "    nright = len(obsright)\n",
    "    boundaries = np.sort(np.array([-np.inf, np.inf] + list(obsleft) + list(obsright)))\n",
    "    \n",
    "    logreqESS = np.log(requiredESS)\n",
    "    logESS = -np.inf\n",
    "    \n",
    "    t = 0\n",
    "    num_zero_permanents = 0\n",
    "    \n",
    "    while logESS < logreqESS:\n",
    "        U = np.random.gamma(shape=alpha/sigma, scale=1/1)**(1/sigma)\n",
    "        J = rlaptrans(H, sigma, H, U, tol=1e-7, x0=1.0, xinc=2.0, m=11, L=1, A=19, nburn=38)\n",
    "        pi = J/np.sum(J)\n",
    "        theta = np.random.randn(H)\n",
    "        x = numba_choice_sampler(theta, pi, n)\n",
    "        x = np.sort(x)\n",
    "        \n",
    "        # Continue if permanent is zero\n",
    "        nonzero_permanent = True\n",
    "        for i in range(nleft):\n",
    "            if x[i] > obsleft[i]:\n",
    "                nonzero_permanent = False\n",
    "                break\n",
    "        for i in range(nright):\n",
    "            if x[nleft + i] <= obsright[i]:\n",
    "                nonzero_permanent = False\n",
    "                break\n",
    "        if not nonzero_permanent:\n",
    "            num_zero_permanents += 1\n",
    "            continue\n",
    "        \n",
    "        # Calculate permanent\n",
    "        a, b, c = get_abc(x, obsleft, obsright, boundaries)\n",
    "        logP = logpermanent_calculator(a, b, c, n)\n",
    "        \n",
    "        data[t] = x\n",
    "        thetas[t] = theta\n",
    "        pis[t] = pi\n",
    "        logpermanents[t] = logP\n",
    "        \n",
    "        logESS = 2*logsumexp_array(logpermanents) - logsumexp_array(2*logpermanents)\n",
    "        t += 1\n",
    "    return data, thetas, pis, logpermanents, num_zero_permanents"
   ]
  },
  {
   "cell_type": "markdown",
   "id": "45d3b4a6",
   "metadata": {},
   "source": [
    "### Simulations"
   ]
  },
  {
   "cell_type": "code",
   "execution_count": 25,
   "id": "faa842a7",
   "metadata": {},
   "outputs": [
    {
     "name": "stdout",
     "output_type": "stream",
     "text": [
      "CPU times: total: 1min 11s\n",
      "Wall time: 53.7 s\n"
     ]
    }
   ],
   "source": [
    "%%time \n",
    "data, thetas, pis, logPs, num_zero_permanents = main_simulation(alpha, sigma, H, T, requiredESS, n, obsleft, obsright)"
   ]
  },
  {
   "cell_type": "code",
   "execution_count": 55,
   "id": "11de1732",
   "metadata": {},
   "outputs": [],
   "source": [
    "data = data[logPs > -np.inf]\n",
    "thetas = thetas[logPs > -np.inf]\n",
    "pis = pis[logPs > -np.inf]\n",
    "logPs = logPs[logPs > -np.inf]\n",
    "T = len(logPs)"
   ]
  },
  {
   "cell_type": "markdown",
   "id": "bb880861",
   "metadata": {},
   "source": [
    "### Simulation efficiency"
   ]
  },
  {
   "cell_type": "code",
   "execution_count": 34,
   "id": "9462fb4e",
   "metadata": {},
   "outputs": [
    {
     "name": "stdout",
     "output_type": "stream",
     "text": [
      "Number of nonzero permanents: 1006\n",
      "Number of zero permanents: 789\n"
     ]
    }
   ],
   "source": [
    "print(f'Number of nonzero permanents: {T}')\n",
    "print(f'Number of zero permanents: {num_zero_permanents}')"
   ]
  },
  {
   "cell_type": "markdown",
   "id": "8f6ce5a9",
   "metadata": {},
   "source": [
    "## Remove before uploading to github"
   ]
  },
  {
   "cell_type": "code",
   "execution_count": null,
   "id": "4a1129ea",
   "metadata": {},
   "outputs": [],
   "source": [
    "np.save('data.npy', data)\n",
    "np.save('thetas.npy', thetas)\n",
    "np.save('pis.npy', pis)\n",
    "np.save('logPs.npy', logPs)"
   ]
  },
  {
   "cell_type": "markdown",
   "id": "61a6ce6e",
   "metadata": {},
   "source": [
    "### Load data"
   ]
  },
  {
   "cell_type": "code",
   "execution_count": null,
   "id": "cc44c688",
   "metadata": {},
   "outputs": [],
   "source": [
    "data = np.load('data.npy')\n",
    "thetas = np.load('thetas.npy')\n",
    "pis = np.load('pis.npy')\n",
    "logPs = np.load('logPs.npy')"
   ]
  },
  {
   "cell_type": "markdown",
   "id": "98089eb8",
   "metadata": {},
   "source": [
    "### Plot"
   ]
  },
  {
   "cell_type": "markdown",
   "id": "0cc4a1ed",
   "metadata": {},
   "source": [
    "#### Sort"
   ]
  },
  {
   "cell_type": "code",
   "execution_count": 35,
   "id": "4ee2de1a",
   "metadata": {},
   "outputs": [],
   "source": [
    "argsorted = np.argsort(thetas, axis=1)\n",
    "sortedpis = np.zeros((T, H))\n",
    "\n",
    "for t in range(T):\n",
    "    sortedpis[t] = pis[t][argsorted[t]]\n",
    "    \n",
    "sortedthetas = np.sort(thetas, axis=1)"
   ]
  },
  {
   "cell_type": "markdown",
   "id": "715923d1",
   "metadata": {},
   "source": [
    "#### Posterior cdfs"
   ]
  },
  {
   "cell_type": "code",
   "execution_count": 36,
   "id": "a0fe42b8",
   "metadata": {},
   "outputs": [],
   "source": [
    "space = np.linspace(np.min(thetas), np.max(thetas), K)"
   ]
  },
  {
   "cell_type": "code",
   "execution_count": 38,
   "id": "7a043556",
   "metadata": {},
   "outputs": [
    {
     "name": "stdout",
     "output_type": "stream",
     "text": [
      "CPU times: total: 234 ms\n",
      "Wall time: 228 ms\n"
     ]
    }
   ],
   "source": [
    "%%time\n",
    "posterior_cdfs = get_posterior_cdfs(sortedpis, sortedthetas, space, T, K)"
   ]
  },
  {
   "cell_type": "markdown",
   "id": "11818e60",
   "metadata": {},
   "source": [
    "##### Posterior mean"
   ]
  },
  {
   "cell_type": "code",
   "execution_count": 39,
   "id": "7d1c4cc0",
   "metadata": {},
   "outputs": [],
   "source": [
    "logfactorial = 0\n",
    "for i in range(1, n+1):\n",
    "    logfactorial += np.log(i)"
   ]
  },
  {
   "cell_type": "code",
   "execution_count": 40,
   "id": "a574fde5",
   "metadata": {},
   "outputs": [],
   "source": [
    "posterior_mean_cdf = np.mean(np.exp(logPs - logfactorial).reshape((T, 1))*posterior_cdfs, axis=0)\n",
    "posterior_mean_cdf /= posterior_mean_cdf[-1]"
   ]
  },
  {
   "cell_type": "code",
   "execution_count": 53,
   "id": "5d6dc235",
   "metadata": {},
   "outputs": [
    {
     "data": {
      "text/plain": [
       "1006"
      ]
     },
     "execution_count": 53,
     "metadata": {},
     "output_type": "execute_result"
    }
   ],
   "source": [
    "len(logPs)"
   ]
  },
  {
   "cell_type": "code",
   "execution_count": 54,
   "id": "3c794ac2",
   "metadata": {},
   "outputs": [
    {
     "data": {
      "text/plain": [
       "300000"
      ]
     },
     "execution_count": 54,
     "metadata": {},
     "output_type": "execute_result"
    }
   ],
   "source": [
    "T"
   ]
  },
  {
   "cell_type": "markdown",
   "id": "c7e048e3",
   "metadata": {},
   "source": [
    "##### Individual realisations"
   ]
  },
  {
   "cell_type": "code",
   "execution_count": 57,
   "id": "1501ed8a",
   "metadata": {},
   "outputs": [],
   "source": [
    "realisations = np.zeros((M, K))\n",
    "probs = np.exp(logPs - logfactorial)\n",
    "probs /= np.sum(probs)\n",
    "\n",
    "for j in range(m):\n",
    "    index = np.random.choice(T, p=probs)\n",
    "    realisations[j] = posterior_cdfs[index]"
   ]
  },
  {
   "cell_type": "markdown",
   "id": "dfe94a15",
   "metadata": {},
   "source": [
    "#### Nonparametric MLE"
   ]
  },
  {
   "cell_type": "code",
   "execution_count": 89,
   "id": "7d7aa31d",
   "metadata": {},
   "outputs": [],
   "source": [
    "tMLE, dMLE = get_nonparametric_mle(logages, successes)"
   ]
  },
  {
   "cell_type": "code",
   "execution_count": 90,
   "id": "00c60ceb",
   "metadata": {},
   "outputs": [],
   "source": [
    "restricted_space = space[(space >= min(tMLE)) * (space <= max(tMLE))]\n",
    "restricted_posterior_mean_cdf = posterior_mean_cdf[(space >= min(tMLE)) * (space <= max(tMLE))]\n",
    "restricted_prior_mean_cdf = np.mean(posterior_cdfs, axis=0)[(space >= min(tMLE)) * (space <= max(tMLE))]"
   ]
  },
  {
   "cell_type": "code",
   "execution_count": 99,
   "id": "9c0c4c86",
   "metadata": {},
   "outputs": [],
   "source": [
    "restricted_realisations = np.zeros((m, len(restricted_space)))"
   ]
  },
  {
   "cell_type": "code",
   "execution_count": 100,
   "id": "2c29441a",
   "metadata": {},
   "outputs": [],
   "source": [
    "for j in range(m):\n",
    "    restricted_realisations[j] = realisations[j][(space >= min(tMLE)) * (space <= max(tMLE))]"
   ]
  },
  {
   "cell_type": "code",
   "execution_count": 92,
   "id": "bb502eba",
   "metadata": {},
   "outputs": [],
   "source": [
    "origspace = np.exp((restricted_space - probitalpha)/probitbeta)"
   ]
  },
  {
   "cell_type": "markdown",
   "id": "ace8a4c2",
   "metadata": {},
   "source": [
    "#### Plot a"
   ]
  },
  {
   "cell_type": "code",
   "execution_count": 104,
   "id": "19f9f73f",
   "metadata": {},
   "outputs": [
    {
     "data": {
      "image/png": "[encoded data removed]",
      "text/plain": [
       "<Figure size 432x288 with 2 Axes>"
      ]
     },
     "metadata": {
      "needs_background": "light"
     },
     "output_type": "display_data"
    }
   ],
   "source": [
    "fig, axs = plt.subplots(1, 2, sharex=True, sharey=True)\n",
    "\n",
    "axs[0].plot(origspace, restricted_posterior_mean_cdf, color='black')\n",
    "axs[0].plot(origspace, restricted_prior_mean_cdf, color='black', linestyle='dotted')\n",
    "axs[0].step(np.exp((tMLE - probitalpha)/probitbeta), dMLE, color='black', linestyle='dashed')\n",
    "\n",
    "axs[1].plot(origspace, restricted_posterior_mean_cdf, color='black')\n",
    "axs[1].plot(origspace, restricted_realisations.T, alpha=.5, linestyle='dotted')\n",
    "\n",
    "axs[0].set_ylabel('F(x)')\n",
    "axs[0].set_xlabel('x')\n",
    "axs[1].set_xlabel('x')\n",
    "plt.savefig('PYMfigure.pdf', format='pdf')"
   ]
  }
 ],
 "metadata": {
  "kernelspec": {
   "display_name": "Python 3 (ipykernel)",
   "language": "python",
   "name": "python3"
  },
  "language_info": {
   "codemirror_mode": {
    "name": "ipython",
    "version": 3
   },
   "file_extension": ".py",
   "mimetype": "text/x-python",
   "name": "python",
   "nbconvert_exporter": "python",
   "pygments_lexer": "ipython3",
   "version": "3.10.4"
  }
 },
 "nbformat": 4,
 "nbformat_minor": 5
}
